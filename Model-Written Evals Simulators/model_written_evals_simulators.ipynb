{
 "cells": [
  {
   "attachments": {},
   "cell_type": "markdown",
   "metadata": {},
   "source": [
    "# Model-Written Evaluations - Simulator Exploration\n",
    "- I'd like to replicate and explore the results of [Discovering Language Model Behaviors with Model-Written Evaluations](https://arxiv.org/abs/2212.092510\n",
    "- We can use `davinci`, `text-davinci-002`, and `text-davinci-003` for our base, SFT, and RLHF models, respectively.\n",
    "- I'd particularly like to investigate how these evaluations change when you manipulate the name of the characters that the language model is \"simulating,\" i.e. instead of just \"Human\" and \"Assistant\" it could be things like \"Alice\" and \"Bob\" or stranger things.\n",
    "- The point of that exploration is to uncover how much of the behaviour measured by the model-written evals is due to the disposition of the language model itself or due to the characters it simulates."
   ]
  }
 ],
 "metadata": {
  "language_info": {
   "name": "python"
  },
  "orig_nbformat": 4
 },
 "nbformat": 4,
 "nbformat_minor": 2
}
