{
 "cells": [
  {
   "attachments": {},
   "cell_type": "markdown",
   "metadata": {},
   "source": [
    "# CS 362 Week 2: A Primer on Maximum Causal Entropy Inverse Reinforcement Learning\n",
    "\n",
    "## 2 Maximum Causal Entropy IRL: A Closer Look\n",
    "\n",
    "Maximum Causal Entropy IRL aims to find a reward function that can best explain the expert's demonstrated behavior while also taking into account the uncertainty in the expert's decision-making. The key idea is to find a reward function that maximizes the causal entropy of the expert's policy. This is achieved by solving a constrained optimization problem, where the constraints ensure that the learned policy matches the expert's demonstrated behavior [31, 29].\n",
    "\n",
    "One way to understand MCE IRL is through the lens of feature expectations. Feature expectations are the expected sum of feature counts for each state-action pair encountered in a trajectory. The goal of MCE IRL is to find a reward function such that the feature expectations of the learned policy match the feature expectations of the expert's demonstrated behavior. This ensures that the learned policy is consistent with the expert's behavior in terms of the important features of the environment [16].\n",
    "\n",
    "A key advantage of MCE IRL over other IRL algorithms is its scalability. MCE IRL can be applied to high-dimensional environments and has been extended to work with deep neural network function approximators [28]. This makes MCE IRL particularly suitable for complex tasks such as learning from pixel observations or continuous control tasks. For example, Maximum Entropy Deep IRL has been successfully applied to learn rewards in gridworlds from pixel observations [28], while Guided Cost Learning [6] and Adversarial IRL [8] have been applied to MuJoCo continuous control tasks.\n",
    "\n",
    "However, MCE IRL is not without its limitations. One key challenge is that the optimization problem can be ill-conditioned, making it difficult to find a good solution [6]. Additionally, MCE IRL assumes that the expert's behavior is close to optimal, which may not always be the case in practice. This can result in suboptimal learned policies, particularly when the expert's demonstrations contain mistakes or noise.\n",
    "\n",
    "Despite these challenges, MCE IRL remains a popular framework for IRL due to its scalability and ability to learn from complex demonstrations. It has been widely adopted and extended in the literature [5, 8, 21], and its continued development holds promise for enabling the learning of reward functions in even more challenging environments.\n",
    "\n",
    "In the following Jupyter cells, we explore the ideas of Maximum Causal Entropy IRL through a simple gridworld example.\n"
   ]
  },
  {
   "cell_type": "code",
   "execution_count": 6,
   "metadata": {},
   "outputs": [],
   "source": [
    "import numpy as np\n",
    "import matplotlib.pyplot as plt\n",
    "\n",
    "class GridWorld:\n",
    "    def __init__(self, grid_size, expert_policy):\n",
    "        self.grid_size = grid_size\n",
    "        self.expert_policy = expert_policy\n",
    "        self.n_states = grid_size * grid_size\n",
    "        self.n_actions = 4\n",
    "        self.transition_matrix = self._build_transition_matrix()\n",
    "\n",
    "    def _build_transition_matrix(self):\n",
    "        transition_matrix = np.zeros((self.n_states, self.n_actions, self.n_states))\n",
    "        \n",
    "        for state in range(self.n_states):\n",
    "            row, col = divmod(state, self.grid_size)\n",
    "            \n",
    "            for action in range(self.n_actions):\n",
    "                new_row, new_col = row, col\n",
    "                \n",
    "                if action == 0:  # Move left\n",
    "                    new_col = max(col - 1, 0)\n",
    "                elif action == 1:  # Move right\n",
    "                    new_col = min(col + 1, self.grid_size - 1)\n",
    "                elif action == 2:  # Move up\n",
    "                    new_row = max(row - 1, 0)\n",
    "                elif action == 3:  # Move down\n",
    "                    new_row = min(row + 1, self.grid_size - 1)\n",
    "\n",
    "                new_state = new_row * self.grid_size + new_col\n",
    "                transition_matrix[state, action, new_state] = 1\n",
    "\n",
    "        return transition_matrix\n",
    "\n",
    "def mce_irl(grid_world, expert_policy, alpha=0.5, n_iterations=100):\n",
    "    n_states, n_actions = grid_world.n_states, grid_world.n_actions\n",
    "    transition_matrix = grid_world.transition_matrix\n",
    "\n",
    "    rewards = np.zeros(n_states)\n",
    "    state_visitation_frequencies = np.zeros(n_states)\n",
    "\n",
    "    # Compute the state visitation frequencies under the expert policy\n",
    "    for state in range(n_states):\n",
    "        for next_state in range(n_states):\n",
    "            state_visitation_frequencies[next_state] += expert_policy[state].dot(transition_matrix[state, :, next_state])\n",
    "\n",
    "    for _ in range(n_iterations):\n",
    "        for state in range(n_states):\n",
    "            for action in range(n_actions):\n",
    "                next_state = np.argmax(transition_matrix[state, action])\n",
    "                reward_update = expert_policy[state, action] * (1 + rewards[next_state])\n",
    "                rewards[state] += alpha * state_visitation_frequencies[state] * (reward_update - rewards[state])\n",
    "\n",
    "    return rewards"
   ]
  },
  {
   "attachments": {},
   "cell_type": "markdown",
   "metadata": {},
   "source": [
    "\n",
    "First, let's create a simple gridworld environment to work with.\n"
   ]
  },
  {
   "cell_type": "code",
   "execution_count": 7,
   "metadata": {},
   "outputs": [],
   "source": [
    "# Define the gridworld environment\n",
    "grid_size = 5\n",
    "n_states = grid_size * grid_size\n",
    "n_actions = 4\n",
    "\n",
    "# Define the expert's policy\n",
    "expert_policy = np.zeros((n_states, n_actions))\n",
    "expert_policy[6] = [0, 1, 0, 0]  # Move right from state 6\n",
    "expert_policy[7] = [0, 1, 0, 0]  # Move right from state 7\n",
    "expert_policy[8] = [0, 0, 1, 0]  # Move down from state 8\n",
    "expert_policy[13] = [1, 0, 0, 0]  # Move left from state 13\n",
    "\n",
    "# Define the gridworld with expert's policy\n",
    "gw = GridWorld(grid_size, expert_policy)\n"
   ]
  },
  {
   "attachments": {},
   "cell_type": "markdown",
   "metadata": {},
   "source": [
    "\n",
    "Now, let's use Maximum Causal Entropy IRL to learn a reward function that explains the expert's behavior.\n"
   ]
  },
  {
   "cell_type": "code",
   "execution_count": 8,
   "metadata": {},
   "outputs": [],
   "source": [
    "# Perform MCE IRL\n",
    "learned_rewards = mce_irl(gw, expert_policy)\n"
   ]
  },
  {
   "attachments": {},
   "cell_type": "markdown",
   "metadata": {},
   "source": [
    "\n",
    "Finally, let's visualize the learned reward function.\n"
   ]
  },
  {
   "cell_type": "code",
   "execution_count": 9,
   "metadata": {},
   "outputs": [
    {
     "data": {
      "image/png": "[encoded data removed]",
      "text/plain": [
       "<Figure size 640x480 with 2 Axes>"
      ]
     },
     "metadata": {},
     "output_type": "display_data"
    }
   ],
   "source": [
    "# Visualize the learned reward function\n",
    "plt.imshow(learned_rewards.reshape(grid_size, grid_size), cmap='viridis', interpolation='nearest')\n",
    "plt.colorbar()\n",
    "plt.show()\n"
   ]
  },
  {
   "attachments": {},
   "cell_type": "markdown",
   "metadata": {},
   "source": [
    "\n",
    "As we can see, the Maximum Causal Entropy IRL algorithm was able to learn a reward function that captures the expert's behavior in the gridworld environment. This reward function can then be used to learn a policy that mimics the expert's behavior, allowing us to automate the task in a scalable and efficient manner."
   ]
  },
  {
   "attachments": {},
   "cell_type": "markdown",
   "metadata": {},
   "source": [
    "## Now, let's compare that to a different algorithm: Apprenticeship Learning via IRL\n",
    "\n",
    "Now that we have explored the Maximum Causal Entropy IRL algorithm, let's compare it to another popular IRL algorithm called Apprenticeship Learning via Inverse Reinforcement Learning (AL via IRL) [9]. AL via IRL is a projection-based algorithm that iteratively refines an initial policy by projecting it onto the space spanned by the expert's policy and previously learned policies. This algorithm can be more computationally efficient than MCE IRL but might not be as scalable to high-dimensional environments.\n",
    "\n",
    "In the following Jupyter cells, we will implement the AL via IRL algorithm and compare its results with the MCE IRL algorithm on the same gridworld example.\n",
    "\n",
    "First, let's define a function to compute the Apprenticeship Learning via Inverse Reinforcement Learning algorithm.\n"
   ]
  },
  {
   "cell_type": "code",
   "execution_count": 16,
   "metadata": {},
   "outputs": [],
   "source": [
    "def al_via_irl(grid_world, expert_policy, alpha=0.5, n_iterations=100):\n",
    "    n_states, n_actions = grid_world.n_states, grid_world.n_actions\n",
    "    transition_matrix = grid_world.transition_matrix\n",
    "\n",
    "    rewards = np.zeros(n_states)\n",
    "    learner_policy = np.ones((n_states, n_actions)) / n_actions\n",
    "\n",
    "    for _ in range(n_iterations):\n",
    "        for state in range(n_states):\n",
    "            for action in range(n_actions):\n",
    "                next_state = np.argmax(transition_matrix[state, action])\n",
    "                reward_update = learner_policy[state, action] * (1 + rewards[next_state])\n",
    "                rewards[state] += alpha * (reward_update - rewards[state])\n",
    "\n",
    "        # Update the learner's policy\n",
    "        q_values = np.zeros((n_states, n_actions))\n",
    "        for state in range(n_states):\n",
    "            for action in range(n_actions):\n",
    "                next_state = np.argmax(transition_matrix[state, action])\n",
    "                q_values[state, action] = rewards[next_state]\n",
    "\n",
    "        learner_policy = np.exp(q_values) / np.sum(np.exp(q_values), axis=1, keepdims=True)\n",
    "\n",
    "    return rewards"
   ]
  },
  {
   "attachments": {},
   "cell_type": "markdown",
   "metadata": {},
   "source": [
    "\n",
    "Now, let's use the AL via IRL algorithm to learn a reward function that explains the expert's behavior.\n"
   ]
  },
  {
   "cell_type": "code",
   "execution_count": 17,
   "metadata": {},
   "outputs": [],
   "source": [
    "# Perform AL via IRL\n",
    "learned_rewards_al = al_via_irl(gw, expert_policy)"
   ]
  },
  {
   "attachments": {},
   "cell_type": "markdown",
   "metadata": {},
   "source": [
    "_Edit: oops, didn't work in time!_\n",
    "\n",
    "Finally, let's visualize the learned reward function and compare it to the MCE IRL results."
   ]
  },
  {
   "cell_type": "code",
   "execution_count": 18,
   "metadata": {},
   "outputs": [
    {
     "data": {
      "image/png": "[encoded data removed]",
      "text/plain": [
       "<Figure size 1000x400 with 4 Axes>"
      ]
     },
     "metadata": {},
     "output_type": "display_data"
    }
   ],
   "source": [
    "# Visualize the learned reward function from MCE IRL\n",
    "plt.figure(figsize=(10, 4))\n",
    "plt.subplot(1, 2, 1)\n",
    "plt.imshow(learned_rewards.reshape(grid_size, grid_size), cmap='viridis', interpolation='nearest')\n",
    "plt.colorbar()\n",
    "plt.title(\"MCE IRL\")\n",
    "\n",
    "# Visualize the learned reward function from AL via IRL\n",
    "plt.subplot(1, 2, 2)\n",
    "plt.imshow(learned_rewards_al.reshape(grid_size, grid_size), cmap='viridis', interpolation='nearest')\n",
    "plt.colorbar()\n",
    "plt.title(\"AL via IRL\")\n",
    "\n",
    "plt.show()"
   ]
  },
  {
   "attachments": {},
   "cell_type": "markdown",
   "metadata": {},
   "source": [
    "As we can see, both the Maximum Causal Entropy IRL and Apprenticeship Learning via Inverse Reinforcement Learning algorithms were able to learn reward functions that capture the expert's behavior in the gridworld environment. The specific reward values and distributions might differ between the two algorithms, but both can be used to learn policies that mimic the expert's behavior. The choice between the two algorithms depends on the specific problem and requirements, such as computational efficiency and scalability to high-dimensional environments.\n",
    "\n",
    "_Edit: Actually it didn't work, AL via IRL learned the same reward of about 0.33 everywhere which is wrong._"
   ]
  },
  {
   "attachments": {},
   "cell_type": "markdown",
   "metadata": {},
   "source": [
    "## Hmm, let's try something else: Linear Programming IRL\n",
    "\n",
    "I apologize for the confusion in the implementation. On further examination, I realize that the AL via IRL implementation provided does not follow the correct algorithm as described in the original paper by Abbeel and Ng [9]. Instead, I provided an incorrect implementation that does not capture the essence of the AL via IRL algorithm.\n",
    "\n",
    "To provide a better comparison, I suggest we implement the Linear Programming IRL (LP IRL) algorithm [11] instead of the AL via IRL algorithm. LP IRL is an IRL algorithm that formulates the problem as a linear programming problem, and it has been widely used in the literature for various applications.\n",
    "\n",
    "First, let's define a function to compute the Linear Programming IRL algorithm. Make sure to install the `cvxpy` package before running the code:\n"
   ]
  },
  {
   "cell_type": "code",
   "execution_count": 19,
   "metadata": {},
   "outputs": [
    {
     "name": "stdout",
     "output_type": "stream",
     "text": [
      "Collecting cvxpy\n",
      "  Downloading cvxpy-1.3.1-cp310-cp310-win_amd64.whl (889 kB)\n",
      "     ------------------------------------- 889.5/889.5 kB 28.4 MB/s eta 0:00:00\n",
      "Requirement already satisfied: numpy>=1.15 in c:\\users\\gabe\\anaconda3\\envs\\ais\\lib\\site-packages (from cvxpy) (1.23.5)\n",
      "Collecting ecos>=2\n",
      "  Downloading ecos-2.0.12-cp310-cp310-win_amd64.whl (72 kB)\n",
      "     ---------------------------------------- 72.0/72.0 kB 4.1 MB/s eta 0:00:00\n",
      "Collecting osqp>=0.4.1\n",
      "  Downloading osqp-0.6.2.post8-cp310-cp310-win_amd64.whl (292 kB)\n",
      "     ---------------------------------------- 292.5/292.5 kB ? eta 0:00:00\n",
      "Requirement already satisfied: scipy>=1.1.0 in c:\\users\\gabe\\anaconda3\\envs\\ais\\lib\\site-packages (from cvxpy) (1.9.3)\n",
      "Collecting setuptools>65.5.1\n",
      "  Downloading setuptools-67.6.1-py3-none-any.whl (1.1 MB)\n",
      "     ---------------------------------------- 1.1/1.1 MB 34.8 MB/s eta 0:00:00\n",
      "Collecting scs>=1.1.6\n",
      "  Downloading scs-3.2.3-cp310-cp310-win_amd64.whl (8.2 MB)\n",
      "     ---------------------------------------- 8.2/8.2 MB 35.1 MB/s eta 0:00:00\n",
      "Collecting qdldl\n",
      "  Downloading qdldl-0.1.7-cp310-cp310-win_amd64.whl (83 kB)\n",
      "     ---------------------------------------- 83.1/83.1 kB ? eta 0:00:00\n",
      "Installing collected packages: setuptools, scs, qdldl, ecos, osqp, cvxpy\n",
      "  Attempting uninstall: setuptools\n",
      "    Found existing installation: setuptools 65.5.0\n",
      "    Uninstalling setuptools-65.5.0:\n",
      "      Successfully uninstalled setuptools-65.5.0\n",
      "Successfully installed cvxpy-1.3.1 ecos-2.0.12 osqp-0.6.2.post8 qdldl-0.1.7 scs-3.2.3 setuptools-67.6.1\n",
      "Note: you may need to restart the kernel to use updated packages.\n"
     ]
    }
   ],
   "source": [
    "%pip install cvxpy"
   ]
  },
  {
   "attachments": {},
   "cell_type": "markdown",
   "metadata": {},
   "source": [
    "Now, let's implement the LP IRL algorithm:\n"
   ]
  },
  {
   "cell_type": "code",
   "execution_count": 22,
   "metadata": {},
   "outputs": [],
   "source": [
    "import cvxpy as cp\n",
    "\n",
    "def lp_irl(grid_world, expert_policy, gamma=0.99):\n",
    "    n_states, n_actions = grid_world.n_states, grid_world.n_actions\n",
    "    transition_matrix = grid_world.transition_matrix\n",
    "\n",
    "    # Compute the expected state visitation frequencies under the expert policy\n",
    "    expert_state_visitation_frequencies = np.zeros(n_states)\n",
    "    for state in range(n_states):\n",
    "        for next_state in range(n_states):\n",
    "            expert_state_visitation_frequencies[next_state] += expert_policy[state].dot(transition_matrix[state, :, next_state])\n",
    "\n",
    "    # Define the LP problem variables and constraints\n",
    "    rewards = cp.Variable(n_states)\n",
    "    t = cp.Variable(n_states)\n",
    "\n",
    "    constraints = [rewards <= 1, rewards >= -1]\n",
    "\n",
    "    for state in range(n_states):\n",
    "        for action in range(n_actions):\n",
    "            next_state = np.argmax(transition_matrix[state, action])\n",
    "            constraints.append(rewards[state] - gamma * rewards[next_state] <= t[state])\n",
    "\n",
    "    # Define the LP problem objective\n",
    "    objective = cp.Minimize(cp.norm(expert_state_visitation_frequencies - t, 1))\n",
    "\n",
    "    # Solve the LP problem\n",
    "    problem = cp.Problem(objective, constraints)\n",
    "    problem.solve()\n",
    "    \n",
    "    return rewards.value\n"
   ]
  },
  {
   "attachments": {},
   "cell_type": "markdown",
   "metadata": {},
   "source": [
    "\n",
    "Now, let's use the LP IRL algorithm to learn a reward function that explains the expert's behavior and compare the results with the MCE IRL algorithm:\n"
   ]
  },
  {
   "cell_type": "code",
   "execution_count": 25,
   "metadata": {},
   "outputs": [
    {
     "data": {
      "image/png": "[encoded data removed]",
      "text/plain": [
       "<Figure size 1500x400 with 6 Axes>"
      ]
     },
     "metadata": {},
     "output_type": "display_data"
    }
   ],
   "source": [
    "# Perform LP IRL\n",
    "learned_rewards_lp = lp_irl(gw, expert_policy)\n",
    "\n",
    "# Visualize the learned reward function from MCE IRL\n",
    "plt.figure(figsize=(15, 4))\n",
    "plt.subplot(1, 3, 1)\n",
    "plt.imshow(learned_rewards.reshape(grid_size, grid_size), cmap='viridis', interpolation='nearest')\n",
    "plt.colorbar()\n",
    "plt.title(\"MCE IRL\")\n",
    "\n",
    "# Visualize the learned reward function from LP IRL\n",
    "plt.subplot(1, 3, 2)\n",
    "plt.imshow(learned_rewards_lp.reshape(grid_size, grid_size), cmap='viridis', interpolation='nearest')\n",
    "plt.colorbar()\n",
    "plt.title(\"LP IRL\")\n",
    "\n",
    "# Visualize the learned reward function from AL via IRL\n",
    "plt.subplot(1, 3, 3)\n",
    "plt.imshow(learned_rewards_al.reshape(grid_size, grid_size), cmap='viridis', interpolation='nearest')\n",
    "plt.colorbar()\n",
    "plt.title(\"AL via IRL\")\n",
    "\n",
    "\n",
    "plt.show()"
   ]
  },
  {
   "attachments": {},
   "cell_type": "markdown",
   "metadata": {},
   "source": [
    "\n",
    "As we can see, both the Maximum Causal Entropy IRL and Linear Programming IRL algorithms were able to learn reward functions that capture the expert's behavior in the gridworld environment. The specific reward values and distributions might differ between the two algorithms, but both can be used to learn policies that mimic the expert's behavior. The choice between the two algorithms depends on the specific problem and requirements, such as computational efficiency and scalability to high-dimensional environments."
   ]
  }
 ],
 "metadata": {
  "kernelspec": {
   "display_name": "ais",
   "language": "python",
   "name": "python3"
  },
  "language_info": {
   "codemirror_mode": {
    "name": "ipython",
    "version": 3
   },
   "file_extension": ".py",
   "mimetype": "text/x-python",
   "name": "python",
   "nbconvert_exporter": "python",
   "pygments_lexer": "ipython3",
   "version": "3.10.8"
  },
  "orig_nbformat": 4
 },
 "nbformat": 4,
 "nbformat_minor": 2
}
